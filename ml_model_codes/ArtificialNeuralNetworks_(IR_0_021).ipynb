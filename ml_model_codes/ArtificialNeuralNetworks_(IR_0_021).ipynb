{
  "cells": [
    {
      "cell_type": "code",
      "execution_count": 1,
      "metadata": {
        "id": "Xko6xxzwPsGX"
      },
      "outputs": [],
      "source": [
        "#importing packages\n",
        "import pandas as pd\n",
        "import numpy as np\n",
        "import tensorflow as tf\n",
        "from tensorflow import keras\n",
        "from tensorflow.keras import layers"
      ]
    },
    {
      "cell_type": "code",
      "execution_count": 2,
      "metadata": {
        "colab": {
          "base_uri": "https://localhost:8080/"
        },
        "id": "v9KaxIuFP7I4",
        "outputId": "edfe2371-a8c5-4ab6-f2a9-7d7f83fab51e"
      },
      "outputs": [
        {
          "output_type": "stream",
          "name": "stdout",
          "text": [
            "Mounted at /content/drive\n"
          ]
        }
      ],
      "source": [
        "from google.colab import drive\n",
        "drive.mount('/content/drive')"
      ]
    },
    {
      "cell_type": "code",
      "execution_count": 3,
      "metadata": {
        "colab": {
          "base_uri": "https://localhost:8080/",
          "height": 424
        },
        "id": "1g87bu0fPsGb",
        "outputId": "045484de-2575-4ff9-d35f-fb69b52e6f04"
      },
      "outputs": [
        {
          "output_type": "execute_result",
          "data": {
            "text/plain": [
              "              DE        FE  fault\n",
              "0      -0.402027 -0.058965      1\n",
              "1       0.548219  0.221480      1\n",
              "2       0.931565  0.044173      1\n",
              "3      -0.218881 -0.017669      1\n",
              "4      -1.079788  0.187580      1\n",
              "...          ...       ...    ...\n",
              "121152 -0.042349  0.098824      0\n",
              "121153 -0.013560  0.042940      0\n",
              "121154  0.057369  0.024655      0\n",
              "121155  0.095129  0.000205      0\n",
              "121156  0.062793  0.026709      0\n",
              "\n",
              "[121157 rows x 3 columns]"
            ],
            "text/html": [
              "\n",
              "  <div id=\"df-748fc643-31fb-45dc-828c-a50962568443\" class=\"colab-df-container\">\n",
              "    <div>\n",
              "<style scoped>\n",
              "    .dataframe tbody tr th:only-of-type {\n",
              "        vertical-align: middle;\n",
              "    }\n",
              "\n",
              "    .dataframe tbody tr th {\n",
              "        vertical-align: top;\n",
              "    }\n",
              "\n",
              "    .dataframe thead th {\n",
              "        text-align: right;\n",
              "    }\n",
              "</style>\n",
              "<table border=\"1\" class=\"dataframe\">\n",
              "  <thead>\n",
              "    <tr style=\"text-align: right;\">\n",
              "      <th></th>\n",
              "      <th>DE</th>\n",
              "      <th>FE</th>\n",
              "      <th>fault</th>\n",
              "    </tr>\n",
              "  </thead>\n",
              "  <tbody>\n",
              "    <tr>\n",
              "      <th>0</th>\n",
              "      <td>-0.402027</td>\n",
              "      <td>-0.058965</td>\n",
              "      <td>1</td>\n",
              "    </tr>\n",
              "    <tr>\n",
              "      <th>1</th>\n",
              "      <td>0.548219</td>\n",
              "      <td>0.221480</td>\n",
              "      <td>1</td>\n",
              "    </tr>\n",
              "    <tr>\n",
              "      <th>2</th>\n",
              "      <td>0.931565</td>\n",
              "      <td>0.044173</td>\n",
              "      <td>1</td>\n",
              "    </tr>\n",
              "    <tr>\n",
              "      <th>3</th>\n",
              "      <td>-0.218881</td>\n",
              "      <td>-0.017669</td>\n",
              "      <td>1</td>\n",
              "    </tr>\n",
              "    <tr>\n",
              "      <th>4</th>\n",
              "      <td>-1.079788</td>\n",
              "      <td>0.187580</td>\n",
              "      <td>1</td>\n",
              "    </tr>\n",
              "    <tr>\n",
              "      <th>...</th>\n",
              "      <td>...</td>\n",
              "      <td>...</td>\n",
              "      <td>...</td>\n",
              "    </tr>\n",
              "    <tr>\n",
              "      <th>121152</th>\n",
              "      <td>-0.042349</td>\n",
              "      <td>0.098824</td>\n",
              "      <td>0</td>\n",
              "    </tr>\n",
              "    <tr>\n",
              "      <th>121153</th>\n",
              "      <td>-0.013560</td>\n",
              "      <td>0.042940</td>\n",
              "      <td>0</td>\n",
              "    </tr>\n",
              "    <tr>\n",
              "      <th>121154</th>\n",
              "      <td>0.057369</td>\n",
              "      <td>0.024655</td>\n",
              "      <td>0</td>\n",
              "    </tr>\n",
              "    <tr>\n",
              "      <th>121155</th>\n",
              "      <td>0.095129</td>\n",
              "      <td>0.000205</td>\n",
              "      <td>0</td>\n",
              "    </tr>\n",
              "    <tr>\n",
              "      <th>121156</th>\n",
              "      <td>0.062793</td>\n",
              "      <td>0.026709</td>\n",
              "      <td>0</td>\n",
              "    </tr>\n",
              "  </tbody>\n",
              "</table>\n",
              "<p>121157 rows × 3 columns</p>\n",
              "</div>\n",
              "    <div class=\"colab-df-buttons\">\n",
              "\n",
              "  <div class=\"colab-df-container\">\n",
              "    <button class=\"colab-df-convert\" onclick=\"convertToInteractive('df-748fc643-31fb-45dc-828c-a50962568443')\"\n",
              "            title=\"Convert this dataframe to an interactive table.\"\n",
              "            style=\"display:none;\">\n",
              "\n",
              "  <svg xmlns=\"http://www.w3.org/2000/svg\" height=\"24px\" viewBox=\"0 -960 960 960\">\n",
              "    <path d=\"M120-120v-720h720v720H120Zm60-500h600v-160H180v160Zm220 220h160v-160H400v160Zm0 220h160v-160H400v160ZM180-400h160v-160H180v160Zm440 0h160v-160H620v160ZM180-180h160v-160H180v160Zm440 0h160v-160H620v160Z\"/>\n",
              "  </svg>\n",
              "    </button>\n",
              "\n",
              "  <style>\n",
              "    .colab-df-container {\n",
              "      display:flex;\n",
              "      gap: 12px;\n",
              "    }\n",
              "\n",
              "    .colab-df-convert {\n",
              "      background-color: #E8F0FE;\n",
              "      border: none;\n",
              "      border-radius: 50%;\n",
              "      cursor: pointer;\n",
              "      display: none;\n",
              "      fill: #1967D2;\n",
              "      height: 32px;\n",
              "      padding: 0 0 0 0;\n",
              "      width: 32px;\n",
              "    }\n",
              "\n",
              "    .colab-df-convert:hover {\n",
              "      background-color: #E2EBFA;\n",
              "      box-shadow: 0px 1px 2px rgba(60, 64, 67, 0.3), 0px 1px 3px 1px rgba(60, 64, 67, 0.15);\n",
              "      fill: #174EA6;\n",
              "    }\n",
              "\n",
              "    .colab-df-buttons div {\n",
              "      margin-bottom: 4px;\n",
              "    }\n",
              "\n",
              "    [theme=dark] .colab-df-convert {\n",
              "      background-color: #3B4455;\n",
              "      fill: #D2E3FC;\n",
              "    }\n",
              "\n",
              "    [theme=dark] .colab-df-convert:hover {\n",
              "      background-color: #434B5C;\n",
              "      box-shadow: 0px 1px 3px 1px rgba(0, 0, 0, 0.15);\n",
              "      filter: drop-shadow(0px 1px 2px rgba(0, 0, 0, 0.3));\n",
              "      fill: #FFFFFF;\n",
              "    }\n",
              "  </style>\n",
              "\n",
              "    <script>\n",
              "      const buttonEl =\n",
              "        document.querySelector('#df-748fc643-31fb-45dc-828c-a50962568443 button.colab-df-convert');\n",
              "      buttonEl.style.display =\n",
              "        google.colab.kernel.accessAllowed ? 'block' : 'none';\n",
              "\n",
              "      async function convertToInteractive(key) {\n",
              "        const element = document.querySelector('#df-748fc643-31fb-45dc-828c-a50962568443');\n",
              "        const dataTable =\n",
              "          await google.colab.kernel.invokeFunction('convertToInteractive',\n",
              "                                                    [key], {});\n",
              "        if (!dataTable) return;\n",
              "\n",
              "        const docLinkHtml = 'Like what you see? Visit the ' +\n",
              "          '<a target=\"_blank\" href=https://colab.research.google.com/notebooks/data_table.ipynb>data table notebook</a>'\n",
              "          + ' to learn more about interactive tables.';\n",
              "        element.innerHTML = '';\n",
              "        dataTable['output_type'] = 'display_data';\n",
              "        await google.colab.output.renderOutput(dataTable, element);\n",
              "        const docLink = document.createElement('div');\n",
              "        docLink.innerHTML = docLinkHtml;\n",
              "        element.appendChild(docLink);\n",
              "      }\n",
              "    </script>\n",
              "  </div>\n",
              "\n",
              "\n",
              "<div id=\"df-4ae0ab64-555a-499a-a61b-63cc495bfc09\">\n",
              "  <button class=\"colab-df-quickchart\" onclick=\"quickchart('df-4ae0ab64-555a-499a-a61b-63cc495bfc09')\"\n",
              "            title=\"Suggest charts\"\n",
              "            style=\"display:none;\">\n",
              "\n",
              "<svg xmlns=\"http://www.w3.org/2000/svg\" height=\"24px\"viewBox=\"0 0 24 24\"\n",
              "     width=\"24px\">\n",
              "    <g>\n",
              "        <path d=\"M19 3H5c-1.1 0-2 .9-2 2v14c0 1.1.9 2 2 2h14c1.1 0 2-.9 2-2V5c0-1.1-.9-2-2-2zM9 17H7v-7h2v7zm4 0h-2V7h2v10zm4 0h-2v-4h2v4z\"/>\n",
              "    </g>\n",
              "</svg>\n",
              "  </button>\n",
              "\n",
              "<style>\n",
              "  .colab-df-quickchart {\n",
              "      --bg-color: #E8F0FE;\n",
              "      --fill-color: #1967D2;\n",
              "      --hover-bg-color: #E2EBFA;\n",
              "      --hover-fill-color: #174EA6;\n",
              "      --disabled-fill-color: #AAA;\n",
              "      --disabled-bg-color: #DDD;\n",
              "  }\n",
              "\n",
              "  [theme=dark] .colab-df-quickchart {\n",
              "      --bg-color: #3B4455;\n",
              "      --fill-color: #D2E3FC;\n",
              "      --hover-bg-color: #434B5C;\n",
              "      --hover-fill-color: #FFFFFF;\n",
              "      --disabled-bg-color: #3B4455;\n",
              "      --disabled-fill-color: #666;\n",
              "  }\n",
              "\n",
              "  .colab-df-quickchart {\n",
              "    background-color: var(--bg-color);\n",
              "    border: none;\n",
              "    border-radius: 50%;\n",
              "    cursor: pointer;\n",
              "    display: none;\n",
              "    fill: var(--fill-color);\n",
              "    height: 32px;\n",
              "    padding: 0;\n",
              "    width: 32px;\n",
              "  }\n",
              "\n",
              "  .colab-df-quickchart:hover {\n",
              "    background-color: var(--hover-bg-color);\n",
              "    box-shadow: 0 1px 2px rgba(60, 64, 67, 0.3), 0 1px 3px 1px rgba(60, 64, 67, 0.15);\n",
              "    fill: var(--button-hover-fill-color);\n",
              "  }\n",
              "\n",
              "  .colab-df-quickchart-complete:disabled,\n",
              "  .colab-df-quickchart-complete:disabled:hover {\n",
              "    background-color: var(--disabled-bg-color);\n",
              "    fill: var(--disabled-fill-color);\n",
              "    box-shadow: none;\n",
              "  }\n",
              "\n",
              "  .colab-df-spinner {\n",
              "    border: 2px solid var(--fill-color);\n",
              "    border-color: transparent;\n",
              "    border-bottom-color: var(--fill-color);\n",
              "    animation:\n",
              "      spin 1s steps(1) infinite;\n",
              "  }\n",
              "\n",
              "  @keyframes spin {\n",
              "    0% {\n",
              "      border-color: transparent;\n",
              "      border-bottom-color: var(--fill-color);\n",
              "      border-left-color: var(--fill-color);\n",
              "    }\n",
              "    20% {\n",
              "      border-color: transparent;\n",
              "      border-left-color: var(--fill-color);\n",
              "      border-top-color: var(--fill-color);\n",
              "    }\n",
              "    30% {\n",
              "      border-color: transparent;\n",
              "      border-left-color: var(--fill-color);\n",
              "      border-top-color: var(--fill-color);\n",
              "      border-right-color: var(--fill-color);\n",
              "    }\n",
              "    40% {\n",
              "      border-color: transparent;\n",
              "      border-right-color: var(--fill-color);\n",
              "      border-top-color: var(--fill-color);\n",
              "    }\n",
              "    60% {\n",
              "      border-color: transparent;\n",
              "      border-right-color: var(--fill-color);\n",
              "    }\n",
              "    80% {\n",
              "      border-color: transparent;\n",
              "      border-right-color: var(--fill-color);\n",
              "      border-bottom-color: var(--fill-color);\n",
              "    }\n",
              "    90% {\n",
              "      border-color: transparent;\n",
              "      border-bottom-color: var(--fill-color);\n",
              "    }\n",
              "  }\n",
              "</style>\n",
              "\n",
              "  <script>\n",
              "    async function quickchart(key) {\n",
              "      const quickchartButtonEl =\n",
              "        document.querySelector('#' + key + ' button');\n",
              "      quickchartButtonEl.disabled = true;  // To prevent multiple clicks.\n",
              "      quickchartButtonEl.classList.add('colab-df-spinner');\n",
              "      try {\n",
              "        const charts = await google.colab.kernel.invokeFunction(\n",
              "            'suggestCharts', [key], {});\n",
              "      } catch (error) {\n",
              "        console.error('Error during call to suggestCharts:', error);\n",
              "      }\n",
              "      quickchartButtonEl.classList.remove('colab-df-spinner');\n",
              "      quickchartButtonEl.classList.add('colab-df-quickchart-complete');\n",
              "    }\n",
              "    (() => {\n",
              "      let quickchartButtonEl =\n",
              "        document.querySelector('#df-4ae0ab64-555a-499a-a61b-63cc495bfc09 button');\n",
              "      quickchartButtonEl.style.display =\n",
              "        google.colab.kernel.accessAllowed ? 'block' : 'none';\n",
              "    })();\n",
              "  </script>\n",
              "</div>\n",
              "    </div>\n",
              "  </div>\n"
            ],
            "application/vnd.google.colaboratory.intrinsic+json": {
              "type": "dataframe",
              "variable_name": "dataset"
            }
          },
          "metadata": {},
          "execution_count": 3
        }
      ],
      "source": [
        "dataset=pd.read_csv(\"/content/drive/MyDrive/project files/finalfile.csv\")\n",
        "dataset"
      ]
    },
    {
      "cell_type": "code",
      "execution_count": 4,
      "metadata": {
        "id": "7stK0DogPsGd"
      },
      "outputs": [],
      "source": [
        "x=dataset.drop(columns=[\"fault\"])\n",
        "y=dataset[\"fault\"]"
      ]
    },
    {
      "cell_type": "code",
      "execution_count": 5,
      "metadata": {
        "id": "vO5GTprUPsGe"
      },
      "outputs": [],
      "source": [
        "from sklearn.model_selection import train_test_split\n",
        "X_train, X_test, y_train, y_test = train_test_split(x, y, test_size = 0.2, random_state = 1)"
      ]
    },
    {
      "cell_type": "code",
      "execution_count": 6,
      "metadata": {
        "id": "w7xBuOuGPsGf"
      },
      "outputs": [],
      "source": [
        "from sklearn.preprocessing import StandardScaler\n",
        "sc = StandardScaler()\n",
        "X_train = sc.fit_transform(X_train)\n",
        "X_test = sc.transform(X_test)"
      ]
    },
    {
      "cell_type": "code",
      "execution_count": 7,
      "metadata": {
        "id": "eqf4RmAdPsGf"
      },
      "outputs": [],
      "source": [
        "import keras\n",
        "from keras.models import Sequential\n",
        "from keras.layers import Dense"
      ]
    },
    {
      "cell_type": "code",
      "execution_count": 8,
      "metadata": {
        "id": "fLyORWVnPsGg"
      },
      "outputs": [],
      "source": [
        "classifier = Sequential()"
      ]
    },
    {
      "cell_type": "code",
      "execution_count": 9,
      "metadata": {
        "id": "UcowC847PsGh"
      },
      "outputs": [],
      "source": [
        "classifier.add(Dense(units=64, kernel_initializer='uniform', activation='relu', input_dim=2))"
      ]
    },
    {
      "cell_type": "code",
      "execution_count": 10,
      "metadata": {
        "id": "zJiy3-J6PsGj"
      },
      "outputs": [],
      "source": [
        "classifier.add(Dense(units = 64, kernel_initializer = 'uniform', activation = 'relu'))"
      ]
    },
    {
      "cell_type": "code",
      "execution_count": 11,
      "metadata": {
        "id": "F7Q5LaMjPsGk"
      },
      "outputs": [],
      "source": [
        "classifier.add(Dense(units = 1, kernel_initializer = 'uniform', activation = 'sigmoid'))"
      ]
    },
    {
      "cell_type": "code",
      "execution_count": 12,
      "metadata": {
        "colab": {
          "base_uri": "https://localhost:8080/"
        },
        "id": "p_qOriHiPsGl",
        "outputId": "811eb601-e457-4e4d-f5bd-d2cf789c02d4"
      },
      "outputs": [
        {
          "output_type": "stream",
          "name": "stdout",
          "text": [
            "Model: \"sequential\"\n",
            "_________________________________________________________________\n",
            " Layer (type)                Output Shape              Param #   \n",
            "=================================================================\n",
            " dense (Dense)               (None, 64)                192       \n",
            "                                                                 \n",
            " dense_1 (Dense)             (None, 64)                4160      \n",
            "                                                                 \n",
            " dense_2 (Dense)             (None, 1)                 65        \n",
            "                                                                 \n",
            "=================================================================\n",
            "Total params: 4,417\n",
            "Trainable params: 4,417\n",
            "Non-trainable params: 0\n",
            "_________________________________________________________________\n"
          ]
        }
      ],
      "source": [
        "# classifier.compile(optimizer = 'adam', loss = 'binary_crossentropy', metrics = ['accuracy'], learning_rate=0.01)\n",
        "classifier.compile(\n",
        "    # loss = keras.losses.SparseCategoricalCrossentropy(from_logits=false)\n",
        "    loss = keras.losses.BinaryCrossentropy(),\n",
        "    optimizer = keras.optimizers.Adam(learning_rate = 0.005),\n",
        "    metrics = [\"accuracy\"]\n",
        "    )\n",
        "classifier.summary()"
      ]
    },
    {
      "cell_type": "code",
      "execution_count": 18,
      "metadata": {
        "colab": {
          "base_uri": "https://localhost:8080/"
        },
        "id": "RNY23DQpPsGm",
        "outputId": "ddf58cf4-5342-4b9d-c9b6-c4e61c04ee18"
      },
      "outputs": [
        {
          "output_type": "stream",
          "name": "stdout",
          "text": [
            "Epoch 1/100\n",
            "1/1 [==============================] - 0s 139ms/step - loss: 0.3427 - accuracy: 0.8501\n",
            "Epoch 2/100\n",
            "1/1 [==============================] - 0s 114ms/step - loss: 0.3427 - accuracy: 0.8501\n",
            "Epoch 3/100\n",
            "1/1 [==============================] - 0s 133ms/step - loss: 0.3427 - accuracy: 0.8501\n",
            "Epoch 4/100\n",
            "1/1 [==============================] - 0s 88ms/step - loss: 0.3427 - accuracy: 0.8501\n",
            "Epoch 5/100\n",
            "1/1 [==============================] - 0s 81ms/step - loss: 0.3427 - accuracy: 0.8501\n",
            "Epoch 6/100\n",
            "1/1 [==============================] - 0s 80ms/step - loss: 0.3427 - accuracy: 0.8501\n",
            "Epoch 7/100\n",
            "1/1 [==============================] - 0s 93ms/step - loss: 0.3427 - accuracy: 0.8501\n",
            "Epoch 8/100\n",
            "1/1 [==============================] - 0s 101ms/step - loss: 0.3427 - accuracy: 0.8500\n",
            "Epoch 9/100\n",
            "1/1 [==============================] - 0s 91ms/step - loss: 0.3426 - accuracy: 0.8499\n",
            "Epoch 10/100\n",
            "1/1 [==============================] - 0s 98ms/step - loss: 0.3426 - accuracy: 0.8499\n",
            "Epoch 11/100\n",
            "1/1 [==============================] - 0s 82ms/step - loss: 0.3426 - accuracy: 0.8500\n",
            "Epoch 12/100\n",
            "1/1 [==============================] - 0s 95ms/step - loss: 0.3426 - accuracy: 0.8500\n",
            "Epoch 13/100\n",
            "1/1 [==============================] - 0s 103ms/step - loss: 0.3426 - accuracy: 0.8500\n",
            "Epoch 14/100\n",
            "1/1 [==============================] - 0s 88ms/step - loss: 0.3426 - accuracy: 0.8501\n",
            "Epoch 15/100\n",
            "1/1 [==============================] - 0s 94ms/step - loss: 0.3426 - accuracy: 0.8501\n",
            "Epoch 16/100\n",
            "1/1 [==============================] - 0s 96ms/step - loss: 0.3426 - accuracy: 0.8501\n",
            "Epoch 17/100\n",
            "1/1 [==============================] - 0s 100ms/step - loss: 0.3426 - accuracy: 0.8501\n",
            "Epoch 18/100\n",
            "1/1 [==============================] - 0s 95ms/step - loss: 0.3426 - accuracy: 0.8501\n",
            "Epoch 19/100\n",
            "1/1 [==============================] - 0s 98ms/step - loss: 0.3426 - accuracy: 0.8501\n",
            "Epoch 20/100\n",
            "1/1 [==============================] - 0s 87ms/step - loss: 0.3426 - accuracy: 0.8501\n",
            "Epoch 21/100\n",
            "1/1 [==============================] - 0s 86ms/step - loss: 0.3426 - accuracy: 0.8502\n",
            "Epoch 22/100\n",
            "1/1 [==============================] - 0s 100ms/step - loss: 0.3426 - accuracy: 0.8502\n",
            "Epoch 23/100\n",
            "1/1 [==============================] - 0s 98ms/step - loss: 0.3426 - accuracy: 0.8501\n",
            "Epoch 24/100\n",
            "1/1 [==============================] - 0s 90ms/step - loss: 0.3426 - accuracy: 0.8501\n",
            "Epoch 25/100\n",
            "1/1 [==============================] - 0s 90ms/step - loss: 0.3426 - accuracy: 0.8502\n",
            "Epoch 26/100\n",
            "1/1 [==============================] - 0s 86ms/step - loss: 0.3426 - accuracy: 0.8502\n",
            "Epoch 27/100\n",
            "1/1 [==============================] - 0s 89ms/step - loss: 0.3426 - accuracy: 0.8502\n",
            "Epoch 28/100\n",
            "1/1 [==============================] - 0s 94ms/step - loss: 0.3426 - accuracy: 0.8502\n",
            "Epoch 29/100\n",
            "1/1 [==============================] - 0s 86ms/step - loss: 0.3426 - accuracy: 0.8502\n",
            "Epoch 30/100\n",
            "1/1 [==============================] - 0s 82ms/step - loss: 0.3426 - accuracy: 0.8502\n",
            "Epoch 31/100\n",
            "1/1 [==============================] - 0s 92ms/step - loss: 0.3426 - accuracy: 0.8502\n",
            "Epoch 32/100\n",
            "1/1 [==============================] - 0s 85ms/step - loss: 0.3426 - accuracy: 0.8502\n",
            "Epoch 33/100\n",
            "1/1 [==============================] - 0s 98ms/step - loss: 0.3426 - accuracy: 0.8502\n",
            "Epoch 34/100\n",
            "1/1 [==============================] - 0s 104ms/step - loss: 0.3426 - accuracy: 0.8502\n",
            "Epoch 35/100\n",
            "1/1 [==============================] - 0s 100ms/step - loss: 0.3426 - accuracy: 0.8502\n",
            "Epoch 36/100\n",
            "1/1 [==============================] - 0s 101ms/step - loss: 0.3426 - accuracy: 0.8502\n",
            "Epoch 37/100\n",
            "1/1 [==============================] - 0s 98ms/step - loss: 0.3426 - accuracy: 0.8502\n",
            "Epoch 38/100\n",
            "1/1 [==============================] - 0s 91ms/step - loss: 0.3426 - accuracy: 0.8502\n",
            "Epoch 39/100\n",
            "1/1 [==============================] - 0s 84ms/step - loss: 0.3426 - accuracy: 0.8502\n",
            "Epoch 40/100\n",
            "1/1 [==============================] - 0s 90ms/step - loss: 0.3426 - accuracy: 0.8502\n",
            "Epoch 41/100\n",
            "1/1 [==============================] - 0s 87ms/step - loss: 0.3426 - accuracy: 0.8502\n",
            "Epoch 42/100\n",
            "1/1 [==============================] - 0s 94ms/step - loss: 0.3426 - accuracy: 0.8502\n",
            "Epoch 43/100\n",
            "1/1 [==============================] - 0s 101ms/step - loss: 0.3426 - accuracy: 0.8503\n",
            "Epoch 44/100\n",
            "1/1 [==============================] - 0s 104ms/step - loss: 0.3425 - accuracy: 0.8503\n",
            "Epoch 45/100\n",
            "1/1 [==============================] - 0s 100ms/step - loss: 0.3425 - accuracy: 0.8503\n",
            "Epoch 46/100\n",
            "1/1 [==============================] - 0s 92ms/step - loss: 0.3425 - accuracy: 0.8503\n",
            "Epoch 47/100\n",
            "1/1 [==============================] - 0s 100ms/step - loss: 0.3425 - accuracy: 0.8503\n",
            "Epoch 48/100\n",
            "1/1 [==============================] - 0s 91ms/step - loss: 0.3425 - accuracy: 0.8503\n",
            "Epoch 49/100\n",
            "1/1 [==============================] - 0s 98ms/step - loss: 0.3425 - accuracy: 0.8503\n",
            "Epoch 50/100\n",
            "1/1 [==============================] - 0s 94ms/step - loss: 0.3425 - accuracy: 0.8503\n",
            "Epoch 51/100\n",
            "1/1 [==============================] - 0s 104ms/step - loss: 0.3425 - accuracy: 0.8503\n",
            "Epoch 52/100\n",
            "1/1 [==============================] - 0s 81ms/step - loss: 0.3425 - accuracy: 0.8503\n",
            "Epoch 53/100\n",
            "1/1 [==============================] - 0s 84ms/step - loss: 0.3425 - accuracy: 0.8503\n",
            "Epoch 54/100\n",
            "1/1 [==============================] - 0s 110ms/step - loss: 0.3425 - accuracy: 0.8503\n",
            "Epoch 55/100\n",
            "1/1 [==============================] - 0s 91ms/step - loss: 0.3425 - accuracy: 0.8503\n",
            "Epoch 56/100\n",
            "1/1 [==============================] - 0s 91ms/step - loss: 0.3425 - accuracy: 0.8503\n",
            "Epoch 57/100\n",
            "1/1 [==============================] - 0s 90ms/step - loss: 0.3425 - accuracy: 0.8503\n",
            "Epoch 58/100\n",
            "1/1 [==============================] - 0s 97ms/step - loss: 0.3425 - accuracy: 0.8503\n",
            "Epoch 59/100\n",
            "1/1 [==============================] - 0s 98ms/step - loss: 0.3425 - accuracy: 0.8503\n",
            "Epoch 60/100\n",
            "1/1 [==============================] - 0s 95ms/step - loss: 0.3425 - accuracy: 0.8503\n",
            "Epoch 61/100\n",
            "1/1 [==============================] - 0s 90ms/step - loss: 0.3425 - accuracy: 0.8503\n",
            "Epoch 62/100\n",
            "1/1 [==============================] - 0s 83ms/step - loss: 0.3425 - accuracy: 0.8503\n",
            "Epoch 63/100\n",
            "1/1 [==============================] - 0s 90ms/step - loss: 0.3425 - accuracy: 0.8503\n",
            "Epoch 64/100\n",
            "1/1 [==============================] - 0s 100ms/step - loss: 0.3425 - accuracy: 0.8503\n",
            "Epoch 65/100\n",
            "1/1 [==============================] - 0s 82ms/step - loss: 0.3425 - accuracy: 0.8503\n",
            "Epoch 66/100\n",
            "1/1 [==============================] - 0s 105ms/step - loss: 0.3425 - accuracy: 0.8503\n",
            "Epoch 67/100\n",
            "1/1 [==============================] - 0s 91ms/step - loss: 0.3425 - accuracy: 0.8503\n",
            "Epoch 68/100\n",
            "1/1 [==============================] - 0s 88ms/step - loss: 0.3425 - accuracy: 0.8503\n",
            "Epoch 69/100\n",
            "1/1 [==============================] - 0s 90ms/step - loss: 0.3425 - accuracy: 0.8503\n",
            "Epoch 70/100\n",
            "1/1 [==============================] - 0s 92ms/step - loss: 0.3425 - accuracy: 0.8503\n",
            "Epoch 71/100\n",
            "1/1 [==============================] - 0s 105ms/step - loss: 0.3425 - accuracy: 0.8503\n",
            "Epoch 72/100\n",
            "1/1 [==============================] - 0s 94ms/step - loss: 0.3425 - accuracy: 0.8503\n",
            "Epoch 73/100\n",
            "1/1 [==============================] - 0s 85ms/step - loss: 0.3425 - accuracy: 0.8503\n",
            "Epoch 74/100\n",
            "1/1 [==============================] - 0s 93ms/step - loss: 0.3425 - accuracy: 0.8503\n",
            "Epoch 75/100\n",
            "1/1 [==============================] - 0s 98ms/step - loss: 0.3425 - accuracy: 0.8503\n",
            "Epoch 76/100\n",
            "1/1 [==============================] - 0s 110ms/step - loss: 0.3425 - accuracy: 0.8503\n",
            "Epoch 77/100\n",
            "1/1 [==============================] - 0s 109ms/step - loss: 0.3425 - accuracy: 0.8503\n",
            "Epoch 78/100\n",
            "1/1 [==============================] - 0s 108ms/step - loss: 0.3425 - accuracy: 0.8503\n",
            "Epoch 79/100\n",
            "1/1 [==============================] - 0s 121ms/step - loss: 0.3425 - accuracy: 0.8503\n",
            "Epoch 80/100\n",
            "1/1 [==============================] - 0s 121ms/step - loss: 0.3425 - accuracy: 0.8503\n",
            "Epoch 81/100\n",
            "1/1 [==============================] - 0s 122ms/step - loss: 0.3425 - accuracy: 0.8503\n",
            "Epoch 82/100\n",
            "1/1 [==============================] - 0s 146ms/step - loss: 0.3425 - accuracy: 0.8503\n",
            "Epoch 83/100\n",
            "1/1 [==============================] - 0s 126ms/step - loss: 0.3425 - accuracy: 0.8503\n",
            "Epoch 84/100\n",
            "1/1 [==============================] - 0s 138ms/step - loss: 0.3425 - accuracy: 0.8503\n",
            "Epoch 85/100\n",
            "1/1 [==============================] - 0s 136ms/step - loss: 0.3425 - accuracy: 0.8503\n",
            "Epoch 86/100\n",
            "1/1 [==============================] - 0s 104ms/step - loss: 0.3425 - accuracy: 0.8503\n",
            "Epoch 87/100\n",
            "1/1 [==============================] - 0s 147ms/step - loss: 0.3425 - accuracy: 0.8503\n",
            "Epoch 88/100\n",
            "1/1 [==============================] - 0s 143ms/step - loss: 0.3425 - accuracy: 0.8503\n",
            "Epoch 89/100\n",
            "1/1 [==============================] - 0s 158ms/step - loss: 0.3425 - accuracy: 0.8503\n",
            "Epoch 90/100\n",
            "1/1 [==============================] - 0s 147ms/step - loss: 0.3425 - accuracy: 0.8503\n",
            "Epoch 91/100\n",
            "1/1 [==============================] - 0s 143ms/step - loss: 0.3425 - accuracy: 0.8503\n",
            "Epoch 92/100\n",
            "1/1 [==============================] - 0s 156ms/step - loss: 0.3425 - accuracy: 0.8503\n",
            "Epoch 93/100\n",
            "1/1 [==============================] - 0s 136ms/step - loss: 0.3425 - accuracy: 0.8503\n",
            "Epoch 94/100\n",
            "1/1 [==============================] - 0s 153ms/step - loss: 0.3425 - accuracy: 0.8503\n",
            "Epoch 95/100\n",
            "1/1 [==============================] - 0s 127ms/step - loss: 0.3425 - accuracy: 0.8503\n",
            "Epoch 96/100\n",
            "1/1 [==============================] - 0s 95ms/step - loss: 0.3425 - accuracy: 0.8503\n",
            "Epoch 97/100\n",
            "1/1 [==============================] - 0s 104ms/step - loss: 0.3425 - accuracy: 0.8503\n",
            "Epoch 98/100\n",
            "1/1 [==============================] - 0s 96ms/step - loss: 0.3425 - accuracy: 0.8503\n",
            "Epoch 99/100\n",
            "1/1 [==============================] - 0s 94ms/step - loss: 0.3425 - accuracy: 0.8503\n",
            "Epoch 100/100\n",
            "1/1 [==============================] - 0s 105ms/step - loss: 0.3425 - accuracy: 0.8504\n"
          ]
        }
      ],
      "source": [
        "model = classifier.fit(X_train, y_train, batch_size = 100000, epochs = 100, shuffle = True)\n"
      ]
    },
    {
      "cell_type": "code",
      "execution_count": 19,
      "metadata": {
        "id": "S0ItvxEwPsGm",
        "colab": {
          "base_uri": "https://localhost:8080/"
        },
        "outputId": "ba283492-bb2f-40c8-d944-00d03659b7c8"
      },
      "outputs": [
        {
          "output_type": "stream",
          "name": "stdout",
          "text": [
            "DE-0.771566866\n",
            "FE0.098207273\n",
            "1/1 [==============================] - 0s 17ms/step\n",
            "[[ True]]\n"
          ]
        }
      ],
      "source": [
        "# y_pred = classifier.predict(X_test)\n",
        "# print(X_test)\n",
        "# y_pred = (y_pred > 0.5)\n",
        "# print(y_pred)\n",
        "import numpy as np\n",
        "a=float(input(\"DE\"))\n",
        "b=float(input(\"FE\"))\n",
        "y_new = np.array([[a, b]])\n",
        "new_pred = classifier.predict(y_new)\n",
        "new_pred = (new_pred > 0.5)\n",
        "print(new_pred)\n",
        "\n"
      ]
    },
    {
      "cell_type": "code",
      "execution_count": 21,
      "metadata": {
        "id": "3Ek9nTfvPsGm",
        "colab": {
          "base_uri": "https://localhost:8080/",
          "height": 450
        },
        "outputId": "a33a6bbf-2b1d-44c6-f5f1-16920c4b423e"
      },
      "outputs": [
        {
          "output_type": "stream",
          "name": "stdout",
          "text": [
            "758/758 [==============================] - 3s 3ms/step\n"
          ]
        },
        {
          "output_type": "display_data",
          "data": {
            "text/plain": [
              "<Figure size 1000x400 with 2 Axes>"
            ],
            "image/png": "[encoded data removed]"
          },
          "metadata": {}
        }
      ],
      "source": [
        "from sklearn.metrics import confusion_matrix\n",
        "\n",
        "y_pred = classifier.predict(X_test)\n",
        "y_pred_binary = (y_pred > 0.5).astype(int)\n",
        "cm = confusion_matrix(y_test, y_pred_binary)\n",
        "\n",
        "import seaborn as sn\n",
        "import pandas as pd\n",
        "import matplotlib.pyplot as plt\n",
        "\n",
        "index = ['Normal', 'Inner Race (0.021\")']\n",
        "columns = ['Normal', 'Inner Race (0.021\")']\n",
        "cm_df = pd.DataFrame(cm,columns,index)\n",
        "\n",
        "\n",
        "plt.figure(figsize=(10,4))\n",
        "sn.set(font_scale=1.4) # for label size\n",
        "sn.heatmap(cm_df, annot=True, fmt='g') # font size\n",
        "plt.title('Confusion matrix')\n",
        "plt.xlabel('Predicted')\n",
        "plt.ylabel('True')\n",
        "plt.show()\n",
        "\n",
        "plt.show()"
      ]
    },
    {
      "cell_type": "code",
      "execution_count": 22,
      "metadata": {
        "id": "812MR_sBPsGn",
        "colab": {
          "base_uri": "https://localhost:8080/"
        },
        "outputId": "a1939e2b-e652-40af-9fc1-b9f735dbbf78"
      },
      "outputs": [
        {
          "output_type": "stream",
          "name": "stdout",
          "text": [
            "758/758 [==============================] - 1s 1ms/step - loss: 0.3453 - accuracy: 0.8489\n"
          ]
        },
        {
          "output_type": "execute_result",
          "data": {
            "text/plain": [
              "[0.34532400965690613, 0.848877489566803]"
            ]
          },
          "metadata": {},
          "execution_count": 22
        }
      ],
      "source": [
        "classifier.evaluate(X_test, y_test)"
      ]
    },
    {
      "cell_type": "code",
      "execution_count": 25,
      "metadata": {
        "id": "xFZxE3TqPsGo",
        "colab": {
          "base_uri": "https://localhost:8080/"
        },
        "outputId": "231c0672-3ead-4696-965b-b659d1f46552"
      },
      "outputs": [
        {
          "output_type": "stream",
          "name": "stdout",
          "text": [
            "                     precision    recall  f1-score   support\n",
            "\n",
            "             Normal       0.79      0.94      0.86     12007\n",
            "Inner Race (0.021\")       0.93      0.76      0.83     12225\n",
            "\n",
            "           accuracy                           0.85     24232\n",
            "          macro avg       0.86      0.85      0.85     24232\n",
            "       weighted avg       0.86      0.85      0.85     24232\n",
            "\n"
          ]
        }
      ],
      "source": [
        "from sklearn.metrics import classification_report\n",
        "cr = classification_report(y_test, y_pred_binary, target_names=['Normal', 'Inner Race (0.021\")'])\n",
        "print(cr)"
      ]
    },
    {
      "cell_type": "code",
      "execution_count": 26,
      "metadata": {
        "id": "UwZUZSLoPsGp",
        "colab": {
          "base_uri": "https://localhost:8080/"
        },
        "outputId": "5e6cc3d2-6bf0-4a82-efa2-9065394a349d"
      },
      "outputs": [
        {
          "output_type": "stream",
          "name": "stdout",
          "text": [
            "Anomalies: 3662\n"
          ]
        }
      ],
      "source": [
        "normal, IR = cm\n",
        "anomalies = normal[1] + IR[0]\n",
        "print(\"Anomalies: {}\".format(anomalies))"
      ]
    },
    {
      "cell_type": "markdown",
      "metadata": {
        "id": "CXuwTvKk14Sm"
      },
      "source": [
        "To further re-train your model, use\n",
        "**tf.keras.models.save_model() to save a model**\n",
        "**tf.keras.models.load_model() to load a model.**"
      ]
    },
    {
      "cell_type": "code",
      "execution_count": 27,
      "metadata": {
        "id": "u9TgEh0wPsGq"
      },
      "outputs": [],
      "source": [
        "path_to_save_model = '/content/drive/MyDrive/project files/model_name.keras'\n",
        "tf.keras.models.save_model(classifier, path_to_save_model)"
      ]
    }
  ],
  "metadata": {
    "colab": {
      "provenance": []
    },
    "kernelspec": {
      "display_name": "Python 3",
      "name": "python3"
    },
    "language_info": {
      "codemirror_mode": {
        "name": "ipython",
        "version": 3
      },
      "file_extension": ".py",
      "mimetype": "text/x-python",
      "name": "python",
      "nbconvert_exporter": "python",
      "pygments_lexer": "ipython3",
      "version": "3.7.4"
    },
    "accelerator": "TPU"
  },
  "nbformat": 4,
  "nbformat_minor": 0
}