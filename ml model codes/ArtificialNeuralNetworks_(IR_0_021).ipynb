{
  "cells": [
    {
      "cell_type": "markdown",
      "metadata": {
        "id": "view-in-github",
        "colab_type": "text"
      },
      "source": [
        "<a href=\"https://colab.research.google.com/github/Delwn/Main-Project/blob/main/ArtificialNeuralNetworks_(IR_0_021).ipynb\" target=\"_parent\"><img src=\"https://colab.research.google.com/assets/colab-badge.svg\" alt=\"Open In Colab\"/></a>"
      ]
    },
    {
      "cell_type": "code",
      "execution_count": 11,
      "metadata": {
        "id": "Xko6xxzwPsGX"
      },
      "outputs": [],
      "source": [
        "#importing packages\n",
        "import pandas as pd\n",
        "import numpy as np\n",
        "import tensorflow as tf\n"
      ]
    },
    {
      "cell_type": "code",
      "execution_count": 12,
      "metadata": {
        "colab": {
          "base_uri": "https://localhost:8080/"
        },
        "id": "v9KaxIuFP7I4",
        "outputId": "e5900638-532c-49b2-eb46-9bb0c7eee1bd"
      },
      "outputs": [
        {
          "output_type": "stream",
          "name": "stdout",
          "text": [
            "Drive already mounted at /content/drive; to attempt to forcibly remount, call drive.mount(\"/content/drive\", force_remount=True).\n"
          ]
        }
      ],
      "source": [
        "from google.colab import drive\n",
        "drive.mount('/content/drive')"
      ]
    },
    {
      "cell_type": "code",
      "execution_count": 13,
      "metadata": {
        "colab": {
          "base_uri": "https://localhost:8080/",
          "height": 424
        },
        "id": "1g87bu0fPsGb",
        "outputId": "92523761-8394-4597-fd5f-40316a89d788"
      },
      "outputs": [
        {
          "output_type": "execute_result",
          "data": {
            "text/plain": [
              "              DE        FE  fault\n",
              "0      -0.402027 -0.058965      1\n",
              "1       0.548219  0.221480      1\n",
              "2       0.931565  0.044173      1\n",
              "3      -0.218881 -0.017669      1\n",
              "4      -1.079788  0.187580      1\n",
              "...          ...       ...    ...\n",
              "121152 -0.042349  0.098824      0\n",
              "121153 -0.013560  0.042940      0\n",
              "121154  0.057369  0.024655      0\n",
              "121155  0.095129  0.000205      0\n",
              "121156  0.062793  0.026709      0\n",
              "\n",
              "[121157 rows x 3 columns]"
            ],
            "text/html": [
              "\n",
              "  <div id=\"df-0dfb915e-24cf-4119-b42e-2774f7fdc3e6\" class=\"colab-df-container\">\n",
              "    <div>\n",
              "<style scoped>\n",
              "    .dataframe tbody tr th:only-of-type {\n",
              "        vertical-align: middle;\n",
              "    }\n",
              "\n",
              "    .dataframe tbody tr th {\n",
              "        vertical-align: top;\n",
              "    }\n",
              "\n",
              "    .dataframe thead th {\n",
              "        text-align: right;\n",
              "    }\n",
              "</style>\n",
              "<table border=\"1\" class=\"dataframe\">\n",
              "  <thead>\n",
              "    <tr style=\"text-align: right;\">\n",
              "      <th></th>\n",
              "      <th>DE</th>\n",
              "      <th>FE</th>\n",
              "      <th>fault</th>\n",
              "    </tr>\n",
              "  </thead>\n",
              "  <tbody>\n",
              "    <tr>\n",
              "      <th>0</th>\n",
              "      <td>-0.402027</td>\n",
              "      <td>-0.058965</td>\n",
              "      <td>1</td>\n",
              "    </tr>\n",
              "    <tr>\n",
              "      <th>1</th>\n",
              "      <td>0.548219</td>\n",
              "      <td>0.221480</td>\n",
              "      <td>1</td>\n",
              "    </tr>\n",
              "    <tr>\n",
              "      <th>2</th>\n",
              "      <td>0.931565</td>\n",
              "      <td>0.044173</td>\n",
              "      <td>1</td>\n",
              "    </tr>\n",
              "    <tr>\n",
              "      <th>3</th>\n",
              "      <td>-0.218881</td>\n",
              "      <td>-0.017669</td>\n",
              "      <td>1</td>\n",
              "    </tr>\n",
              "    <tr>\n",
              "      <th>4</th>\n",
              "      <td>-1.079788</td>\n",
              "      <td>0.187580</td>\n",
              "      <td>1</td>\n",
              "    </tr>\n",
              "    <tr>\n",
              "      <th>...</th>\n",
              "      <td>...</td>\n",
              "      <td>...</td>\n",
              "      <td>...</td>\n",
              "    </tr>\n",
              "    <tr>\n",
              "      <th>121152</th>\n",
              "      <td>-0.042349</td>\n",
              "      <td>0.098824</td>\n",
              "      <td>0</td>\n",
              "    </tr>\n",
              "    <tr>\n",
              "      <th>121153</th>\n",
              "      <td>-0.013560</td>\n",
              "      <td>0.042940</td>\n",
              "      <td>0</td>\n",
              "    </tr>\n",
              "    <tr>\n",
              "      <th>121154</th>\n",
              "      <td>0.057369</td>\n",
              "      <td>0.024655</td>\n",
              "      <td>0</td>\n",
              "    </tr>\n",
              "    <tr>\n",
              "      <th>121155</th>\n",
              "      <td>0.095129</td>\n",
              "      <td>0.000205</td>\n",
              "      <td>0</td>\n",
              "    </tr>\n",
              "    <tr>\n",
              "      <th>121156</th>\n",
              "      <td>0.062793</td>\n",
              "      <td>0.026709</td>\n",
              "      <td>0</td>\n",
              "    </tr>\n",
              "  </tbody>\n",
              "</table>\n",
              "<p>121157 rows × 3 columns</p>\n",
              "</div>\n",
              "    <div class=\"colab-df-buttons\">\n",
              "\n",
              "  <div class=\"colab-df-container\">\n",
              "    <button class=\"colab-df-convert\" onclick=\"convertToInteractive('df-0dfb915e-24cf-4119-b42e-2774f7fdc3e6')\"\n",
              "            title=\"Convert this dataframe to an interactive table.\"\n",
              "            style=\"display:none;\">\n",
              "\n",
              "  <svg xmlns=\"http://www.w3.org/2000/svg\" height=\"24px\" viewBox=\"0 -960 960 960\">\n",
              "    <path d=\"M120-120v-720h720v720H120Zm60-500h600v-160H180v160Zm220 220h160v-160H400v160Zm0 220h160v-160H400v160ZM180-400h160v-160H180v160Zm440 0h160v-160H620v160ZM180-180h160v-160H180v160Zm440 0h160v-160H620v160Z\"/>\n",
              "  </svg>\n",
              "    </button>\n",
              "\n",
              "  <style>\n",
              "    .colab-df-container {\n",
              "      display:flex;\n",
              "      gap: 12px;\n",
              "    }\n",
              "\n",
              "    .colab-df-convert {\n",
              "      background-color: #E8F0FE;\n",
              "      border: none;\n",
              "      border-radius: 50%;\n",
              "      cursor: pointer;\n",
              "      display: none;\n",
              "      fill: #1967D2;\n",
              "      height: 32px;\n",
              "      padding: 0 0 0 0;\n",
              "      width: 32px;\n",
              "    }\n",
              "\n",
              "    .colab-df-convert:hover {\n",
              "      background-color: #E2EBFA;\n",
              "      box-shadow: 0px 1px 2px rgba(60, 64, 67, 0.3), 0px 1px 3px 1px rgba(60, 64, 67, 0.15);\n",
              "      fill: #174EA6;\n",
              "    }\n",
              "\n",
              "    .colab-df-buttons div {\n",
              "      margin-bottom: 4px;\n",
              "    }\n",
              "\n",
              "    [theme=dark] .colab-df-convert {\n",
              "      background-color: #3B4455;\n",
              "      fill: #D2E3FC;\n",
              "    }\n",
              "\n",
              "    [theme=dark] .colab-df-convert:hover {\n",
              "      background-color: #434B5C;\n",
              "      box-shadow: 0px 1px 3px 1px rgba(0, 0, 0, 0.15);\n",
              "      filter: drop-shadow(0px 1px 2px rgba(0, 0, 0, 0.3));\n",
              "      fill: #FFFFFF;\n",
              "    }\n",
              "  </style>\n",
              "\n",
              "    <script>\n",
              "      const buttonEl =\n",
              "        document.querySelector('#df-0dfb915e-24cf-4119-b42e-2774f7fdc3e6 button.colab-df-convert');\n",
              "      buttonEl.style.display =\n",
              "        google.colab.kernel.accessAllowed ? 'block' : 'none';\n",
              "\n",
              "      async function convertToInteractive(key) {\n",
              "        const element = document.querySelector('#df-0dfb915e-24cf-4119-b42e-2774f7fdc3e6');\n",
              "        const dataTable =\n",
              "          await google.colab.kernel.invokeFunction('convertToInteractive',\n",
              "                                                    [key], {});\n",
              "        if (!dataTable) return;\n",
              "\n",
              "        const docLinkHtml = 'Like what you see? Visit the ' +\n",
              "          '<a target=\"_blank\" href=https://colab.research.google.com/notebooks/data_table.ipynb>data table notebook</a>'\n",
              "          + ' to learn more about interactive tables.';\n",
              "        element.innerHTML = '';\n",
              "        dataTable['output_type'] = 'display_data';\n",
              "        await google.colab.output.renderOutput(dataTable, element);\n",
              "        const docLink = document.createElement('div');\n",
              "        docLink.innerHTML = docLinkHtml;\n",
              "        element.appendChild(docLink);\n",
              "      }\n",
              "    </script>\n",
              "  </div>\n",
              "\n",
              "\n",
              "<div id=\"df-943b69ab-23c7-40f9-b20a-5cfe985dd47d\">\n",
              "  <button class=\"colab-df-quickchart\" onclick=\"quickchart('df-943b69ab-23c7-40f9-b20a-5cfe985dd47d')\"\n",
              "            title=\"Suggest charts\"\n",
              "            style=\"display:none;\">\n",
              "\n",
              "<svg xmlns=\"http://www.w3.org/2000/svg\" height=\"24px\"viewBox=\"0 0 24 24\"\n",
              "     width=\"24px\">\n",
              "    <g>\n",
              "        <path d=\"M19 3H5c-1.1 0-2 .9-2 2v14c0 1.1.9 2 2 2h14c1.1 0 2-.9 2-2V5c0-1.1-.9-2-2-2zM9 17H7v-7h2v7zm4 0h-2V7h2v10zm4 0h-2v-4h2v4z\"/>\n",
              "    </g>\n",
              "</svg>\n",
              "  </button>\n",
              "\n",
              "<style>\n",
              "  .colab-df-quickchart {\n",
              "      --bg-color: #E8F0FE;\n",
              "      --fill-color: #1967D2;\n",
              "      --hover-bg-color: #E2EBFA;\n",
              "      --hover-fill-color: #174EA6;\n",
              "      --disabled-fill-color: #AAA;\n",
              "      --disabled-bg-color: #DDD;\n",
              "  }\n",
              "\n",
              "  [theme=dark] .colab-df-quickchart {\n",
              "      --bg-color: #3B4455;\n",
              "      --fill-color: #D2E3FC;\n",
              "      --hover-bg-color: #434B5C;\n",
              "      --hover-fill-color: #FFFFFF;\n",
              "      --disabled-bg-color: #3B4455;\n",
              "      --disabled-fill-color: #666;\n",
              "  }\n",
              "\n",
              "  .colab-df-quickchart {\n",
              "    background-color: var(--bg-color);\n",
              "    border: none;\n",
              "    border-radius: 50%;\n",
              "    cursor: pointer;\n",
              "    display: none;\n",
              "    fill: var(--fill-color);\n",
              "    height: 32px;\n",
              "    padding: 0;\n",
              "    width: 32px;\n",
              "  }\n",
              "\n",
              "  .colab-df-quickchart:hover {\n",
              "    background-color: var(--hover-bg-color);\n",
              "    box-shadow: 0 1px 2px rgba(60, 64, 67, 0.3), 0 1px 3px 1px rgba(60, 64, 67, 0.15);\n",
              "    fill: var(--button-hover-fill-color);\n",
              "  }\n",
              "\n",
              "  .colab-df-quickchart-complete:disabled,\n",
              "  .colab-df-quickchart-complete:disabled:hover {\n",
              "    background-color: var(--disabled-bg-color);\n",
              "    fill: var(--disabled-fill-color);\n",
              "    box-shadow: none;\n",
              "  }\n",
              "\n",
              "  .colab-df-spinner {\n",
              "    border: 2px solid var(--fill-color);\n",
              "    border-color: transparent;\n",
              "    border-bottom-color: var(--fill-color);\n",
              "    animation:\n",
              "      spin 1s steps(1) infinite;\n",
              "  }\n",
              "\n",
              "  @keyframes spin {\n",
              "    0% {\n",
              "      border-color: transparent;\n",
              "      border-bottom-color: var(--fill-color);\n",
              "      border-left-color: var(--fill-color);\n",
              "    }\n",
              "    20% {\n",
              "      border-color: transparent;\n",
              "      border-left-color: var(--fill-color);\n",
              "      border-top-color: var(--fill-color);\n",
              "    }\n",
              "    30% {\n",
              "      border-color: transparent;\n",
              "      border-left-color: var(--fill-color);\n",
              "      border-top-color: var(--fill-color);\n",
              "      border-right-color: var(--fill-color);\n",
              "    }\n",
              "    40% {\n",
              "      border-color: transparent;\n",
              "      border-right-color: var(--fill-color);\n",
              "      border-top-color: var(--fill-color);\n",
              "    }\n",
              "    60% {\n",
              "      border-color: transparent;\n",
              "      border-right-color: var(--fill-color);\n",
              "    }\n",
              "    80% {\n",
              "      border-color: transparent;\n",
              "      border-right-color: var(--fill-color);\n",
              "      border-bottom-color: var(--fill-color);\n",
              "    }\n",
              "    90% {\n",
              "      border-color: transparent;\n",
              "      border-bottom-color: var(--fill-color);\n",
              "    }\n",
              "  }\n",
              "</style>\n",
              "\n",
              "  <script>\n",
              "    async function quickchart(key) {\n",
              "      const quickchartButtonEl =\n",
              "        document.querySelector('#' + key + ' button');\n",
              "      quickchartButtonEl.disabled = true;  // To prevent multiple clicks.\n",
              "      quickchartButtonEl.classList.add('colab-df-spinner');\n",
              "      try {\n",
              "        const charts = await google.colab.kernel.invokeFunction(\n",
              "            'suggestCharts', [key], {});\n",
              "      } catch (error) {\n",
              "        console.error('Error during call to suggestCharts:', error);\n",
              "      }\n",
              "      quickchartButtonEl.classList.remove('colab-df-spinner');\n",
              "      quickchartButtonEl.classList.add('colab-df-quickchart-complete');\n",
              "    }\n",
              "    (() => {\n",
              "      let quickchartButtonEl =\n",
              "        document.querySelector('#df-943b69ab-23c7-40f9-b20a-5cfe985dd47d button');\n",
              "      quickchartButtonEl.style.display =\n",
              "        google.colab.kernel.accessAllowed ? 'block' : 'none';\n",
              "    })();\n",
              "  </script>\n",
              "</div>\n",
              "    </div>\n",
              "  </div>\n"
            ]
          },
          "metadata": {},
          "execution_count": 13
        }
      ],
      "source": [
        "dataset=pd.read_csv(\"/content/drive/MyDrive/Project files/finalfile.csv\")\n",
        "dataset"
      ]
    },
    {
      "cell_type": "code",
      "execution_count": 14,
      "metadata": {
        "id": "7stK0DogPsGd"
      },
      "outputs": [],
      "source": [
        "x=dataset.drop(columns=[\"fault\"])\n",
        "y=dataset[\"fault\"]"
      ]
    },
    {
      "cell_type": "code",
      "execution_count": 15,
      "metadata": {
        "id": "vO5GTprUPsGe"
      },
      "outputs": [],
      "source": [
        "from sklearn.model_selection import train_test_split\n",
        "X_train, X_test, y_train, y_test = train_test_split(x, y, test_size = 0.2, random_state = 0)"
      ]
    },
    {
      "cell_type": "code",
      "execution_count": 16,
      "metadata": {
        "id": "w7xBuOuGPsGf"
      },
      "outputs": [],
      "source": [
        "from sklearn.preprocessing import StandardScaler\n",
        "sc = StandardScaler()\n",
        "X_train = sc.fit_transform(X_train)\n",
        "X_test = sc.transform(X_test)"
      ]
    },
    {
      "cell_type": "code",
      "execution_count": 17,
      "metadata": {
        "id": "eqf4RmAdPsGf"
      },
      "outputs": [],
      "source": [
        "import keras\n",
        "from keras.models import Sequential\n",
        "from keras.layers import Dense"
      ]
    },
    {
      "cell_type": "code",
      "execution_count": 18,
      "metadata": {
        "id": "fLyORWVnPsGg"
      },
      "outputs": [],
      "source": [
        "classifier = Sequential()"
      ]
    },
    {
      "cell_type": "code",
      "execution_count": 19,
      "metadata": {
        "id": "UcowC847PsGh"
      },
      "outputs": [],
      "source": [
        "classifier.add(Dense(units=64, kernel_initializer='uniform', activation='relu', input_dim=2))"
      ]
    },
    {
      "cell_type": "code",
      "execution_count": 20,
      "metadata": {
        "id": "zJiy3-J6PsGj"
      },
      "outputs": [],
      "source": [
        "classifier.add(Dense(units = 64, kernel_initializer = 'uniform', activation = 'relu'))"
      ]
    },
    {
      "cell_type": "code",
      "execution_count": 21,
      "metadata": {
        "id": "F7Q5LaMjPsGk"
      },
      "outputs": [],
      "source": [
        "classifier.add(Dense(units = 1, kernel_initializer = 'uniform', activation = 'sigmoid'))"
      ]
    },
    {
      "cell_type": "code",
      "execution_count": 22,
      "metadata": {
        "id": "p_qOriHiPsGl",
        "colab": {
          "base_uri": "https://localhost:8080/"
        },
        "outputId": "9ac17336-91d5-49cc-bbda-e966b755bded"
      },
      "outputs": [
        {
          "output_type": "stream",
          "name": "stdout",
          "text": [
            "Model: \"sequential\"\n",
            "_________________________________________________________________\n",
            " Layer (type)                Output Shape              Param #   \n",
            "=================================================================\n",
            " dense (Dense)               (None, 64)                192       \n",
            "                                                                 \n",
            " dense_1 (Dense)             (None, 64)                4160      \n",
            "                                                                 \n",
            " dense_2 (Dense)             (None, 1)                 65        \n",
            "                                                                 \n",
            "=================================================================\n",
            "Total params: 4417 (17.25 KB)\n",
            "Trainable params: 4417 (17.25 KB)\n",
            "Non-trainable params: 0 (0.00 Byte)\n",
            "_________________________________________________________________\n"
          ]
        }
      ],
      "source": [
        "classifier.compile(optimizer = 'adam', loss = 'binary_crossentropy', metrics = ['accuracy'])\n",
        "classifier.summary()"
      ]
    },
    {
      "cell_type": "code",
      "execution_count": 23,
      "metadata": {
        "id": "RNY23DQpPsGm",
        "colab": {
          "base_uri": "https://localhost:8080/"
        },
        "outputId": "0ae0f698-6940-41c4-e45f-d357426c36b0"
      },
      "outputs": [
        {
          "output_type": "stream",
          "name": "stdout",
          "text": [
            "Epoch 1/100\n",
            "97/97 [==============================] - 1s 4ms/step - loss: 0.6111 - accuracy: 0.6701\n",
            "Epoch 2/100\n",
            "97/97 [==============================] - 0s 4ms/step - loss: 0.4183 - accuracy: 0.8403\n",
            "Epoch 3/100\n",
            "97/97 [==============================] - 0s 4ms/step - loss: 0.3501 - accuracy: 0.8487\n",
            "Epoch 4/100\n",
            "97/97 [==============================] - 0s 5ms/step - loss: 0.3456 - accuracy: 0.8489\n",
            "Epoch 5/100\n",
            "97/97 [==============================] - 1s 6ms/step - loss: 0.3450 - accuracy: 0.8493\n",
            "Epoch 6/100\n",
            "97/97 [==============================] - 1s 6ms/step - loss: 0.3447 - accuracy: 0.8491\n",
            "Epoch 7/100\n",
            "97/97 [==============================] - 1s 6ms/step - loss: 0.3444 - accuracy: 0.8493\n",
            "Epoch 8/100\n",
            "97/97 [==============================] - 1s 6ms/step - loss: 0.3442 - accuracy: 0.8495\n",
            "Epoch 9/100\n",
            "97/97 [==============================] - 1s 6ms/step - loss: 0.3441 - accuracy: 0.8496\n",
            "Epoch 10/100\n",
            "97/97 [==============================] - 1s 6ms/step - loss: 0.3440 - accuracy: 0.8496\n",
            "Epoch 11/100\n",
            "97/97 [==============================] - 0s 3ms/step - loss: 0.3439 - accuracy: 0.8496\n",
            "Epoch 12/100\n",
            "97/97 [==============================] - 0s 3ms/step - loss: 0.3438 - accuracy: 0.8496\n",
            "Epoch 13/100\n",
            "97/97 [==============================] - 0s 3ms/step - loss: 0.3438 - accuracy: 0.8496\n",
            "Epoch 14/100\n",
            "97/97 [==============================] - 0s 3ms/step - loss: 0.3437 - accuracy: 0.8497\n",
            "Epoch 15/100\n",
            "97/97 [==============================] - 0s 3ms/step - loss: 0.3437 - accuracy: 0.8497\n",
            "Epoch 16/100\n",
            "97/97 [==============================] - 0s 4ms/step - loss: 0.3437 - accuracy: 0.8497\n",
            "Epoch 17/100\n",
            "97/97 [==============================] - 0s 3ms/step - loss: 0.3437 - accuracy: 0.8497\n",
            "Epoch 18/100\n",
            "97/97 [==============================] - 0s 3ms/step - loss: 0.3436 - accuracy: 0.8497\n",
            "Epoch 19/100\n",
            "97/97 [==============================] - 0s 3ms/step - loss: 0.3436 - accuracy: 0.8497\n",
            "Epoch 20/100\n",
            "97/97 [==============================] - 0s 3ms/step - loss: 0.3436 - accuracy: 0.8497\n",
            "Epoch 21/100\n",
            "97/97 [==============================] - 0s 3ms/step - loss: 0.3436 - accuracy: 0.8496\n",
            "Epoch 22/100\n",
            "97/97 [==============================] - 0s 4ms/step - loss: 0.3436 - accuracy: 0.8496\n",
            "Epoch 23/100\n",
            "97/97 [==============================] - 0s 4ms/step - loss: 0.3436 - accuracy: 0.8496\n",
            "Epoch 24/100\n",
            "97/97 [==============================] - 0s 4ms/step - loss: 0.3435 - accuracy: 0.8497\n",
            "Epoch 25/100\n",
            "97/97 [==============================] - 0s 4ms/step - loss: 0.3435 - accuracy: 0.8497\n",
            "Epoch 26/100\n",
            "97/97 [==============================] - 0s 4ms/step - loss: 0.3435 - accuracy: 0.8497\n",
            "Epoch 27/100\n",
            "97/97 [==============================] - 0s 4ms/step - loss: 0.3435 - accuracy: 0.8497\n",
            "Epoch 28/100\n",
            "97/97 [==============================] - 0s 4ms/step - loss: 0.3435 - accuracy: 0.8498\n",
            "Epoch 29/100\n",
            "97/97 [==============================] - 0s 3ms/step - loss: 0.3435 - accuracy: 0.8498\n",
            "Epoch 30/100\n",
            "97/97 [==============================] - 0s 3ms/step - loss: 0.3435 - accuracy: 0.8497\n",
            "Epoch 31/100\n",
            "97/97 [==============================] - 0s 3ms/step - loss: 0.3435 - accuracy: 0.8497\n",
            "Epoch 32/100\n",
            "97/97 [==============================] - 0s 3ms/step - loss: 0.3435 - accuracy: 0.8497\n",
            "Epoch 33/100\n",
            "97/97 [==============================] - 0s 3ms/step - loss: 0.3435 - accuracy: 0.8498\n",
            "Epoch 34/100\n",
            "97/97 [==============================] - 0s 3ms/step - loss: 0.3435 - accuracy: 0.8497\n",
            "Epoch 35/100\n",
            "97/97 [==============================] - 0s 3ms/step - loss: 0.3435 - accuracy: 0.8497\n",
            "Epoch 36/100\n",
            "97/97 [==============================] - 0s 4ms/step - loss: 0.3435 - accuracy: 0.8497\n",
            "Epoch 37/100\n",
            "97/97 [==============================] - 0s 4ms/step - loss: 0.3435 - accuracy: 0.8498\n",
            "Epoch 38/100\n",
            "97/97 [==============================] - 0s 3ms/step - loss: 0.3435 - accuracy: 0.8498\n",
            "Epoch 39/100\n",
            "97/97 [==============================] - 0s 3ms/step - loss: 0.3435 - accuracy: 0.8498\n",
            "Epoch 40/100\n",
            "97/97 [==============================] - 0s 3ms/step - loss: 0.3434 - accuracy: 0.8498\n",
            "Epoch 41/100\n",
            "97/97 [==============================] - 0s 5ms/step - loss: 0.3435 - accuracy: 0.8498\n",
            "Epoch 42/100\n",
            "97/97 [==============================] - 0s 5ms/step - loss: 0.3434 - accuracy: 0.8497\n",
            "Epoch 43/100\n",
            "97/97 [==============================] - 1s 5ms/step - loss: 0.3434 - accuracy: 0.8498\n",
            "Epoch 44/100\n",
            "97/97 [==============================] - 0s 5ms/step - loss: 0.3434 - accuracy: 0.8498\n",
            "Epoch 45/100\n",
            "97/97 [==============================] - 0s 5ms/step - loss: 0.3434 - accuracy: 0.8498\n",
            "Epoch 46/100\n",
            "97/97 [==============================] - 1s 6ms/step - loss: 0.3434 - accuracy: 0.8498\n",
            "Epoch 47/100\n",
            "97/97 [==============================] - 1s 6ms/step - loss: 0.3434 - accuracy: 0.8498\n",
            "Epoch 48/100\n",
            "97/97 [==============================] - 0s 4ms/step - loss: 0.3434 - accuracy: 0.8498\n",
            "Epoch 49/100\n",
            "97/97 [==============================] - 0s 3ms/step - loss: 0.3434 - accuracy: 0.8498\n",
            "Epoch 50/100\n",
            "97/97 [==============================] - 0s 3ms/step - loss: 0.3434 - accuracy: 0.8497\n",
            "Epoch 51/100\n",
            "97/97 [==============================] - 0s 3ms/step - loss: 0.3434 - accuracy: 0.8498\n",
            "Epoch 52/100\n",
            "97/97 [==============================] - 0s 3ms/step - loss: 0.3434 - accuracy: 0.8498\n",
            "Epoch 53/100\n",
            "97/97 [==============================] - 0s 3ms/step - loss: 0.3434 - accuracy: 0.8498\n",
            "Epoch 54/100\n",
            "97/97 [==============================] - 0s 3ms/step - loss: 0.3434 - accuracy: 0.8498\n",
            "Epoch 55/100\n",
            "97/97 [==============================] - 0s 3ms/step - loss: 0.3434 - accuracy: 0.8498\n",
            "Epoch 56/100\n",
            "97/97 [==============================] - 0s 4ms/step - loss: 0.3434 - accuracy: 0.8498\n",
            "Epoch 57/100\n",
            "97/97 [==============================] - 0s 3ms/step - loss: 0.3434 - accuracy: 0.8498\n",
            "Epoch 58/100\n",
            "97/97 [==============================] - 0s 3ms/step - loss: 0.3434 - accuracy: 0.8498\n",
            "Epoch 59/100\n",
            "97/97 [==============================] - 0s 3ms/step - loss: 0.3434 - accuracy: 0.8498\n",
            "Epoch 60/100\n",
            "97/97 [==============================] - 0s 3ms/step - loss: 0.3434 - accuracy: 0.8498\n",
            "Epoch 61/100\n",
            "97/97 [==============================] - 0s 3ms/step - loss: 0.3434 - accuracy: 0.8498\n",
            "Epoch 62/100\n",
            "97/97 [==============================] - 0s 3ms/step - loss: 0.3434 - accuracy: 0.8498\n",
            "Epoch 63/100\n",
            "97/97 [==============================] - 0s 3ms/step - loss: 0.3434 - accuracy: 0.8497\n",
            "Epoch 64/100\n",
            "97/97 [==============================] - 0s 3ms/step - loss: 0.3434 - accuracy: 0.8498\n",
            "Epoch 65/100\n",
            "97/97 [==============================] - 0s 3ms/step - loss: 0.3434 - accuracy: 0.8498\n",
            "Epoch 66/100\n",
            "97/97 [==============================] - 0s 3ms/step - loss: 0.3434 - accuracy: 0.8498\n",
            "Epoch 67/100\n",
            "97/97 [==============================] - 0s 3ms/step - loss: 0.3434 - accuracy: 0.8498\n",
            "Epoch 68/100\n",
            "97/97 [==============================] - 0s 3ms/step - loss: 0.3434 - accuracy: 0.8498\n",
            "Epoch 69/100\n",
            "97/97 [==============================] - 0s 3ms/step - loss: 0.3434 - accuracy: 0.8497\n",
            "Epoch 70/100\n",
            "97/97 [==============================] - 0s 3ms/step - loss: 0.3434 - accuracy: 0.8498\n",
            "Epoch 71/100\n",
            "97/97 [==============================] - 0s 4ms/step - loss: 0.3434 - accuracy: 0.8498\n",
            "Epoch 72/100\n",
            "97/97 [==============================] - 0s 4ms/step - loss: 0.3434 - accuracy: 0.8498\n",
            "Epoch 73/100\n",
            "97/97 [==============================] - 0s 3ms/step - loss: 0.3434 - accuracy: 0.8498\n",
            "Epoch 74/100\n",
            "97/97 [==============================] - 0s 3ms/step - loss: 0.3434 - accuracy: 0.8497\n",
            "Epoch 75/100\n",
            "97/97 [==============================] - 0s 4ms/step - loss: 0.3434 - accuracy: 0.8498\n",
            "Epoch 76/100\n",
            "97/97 [==============================] - 0s 3ms/step - loss: 0.3434 - accuracy: 0.8498\n",
            "Epoch 77/100\n",
            "97/97 [==============================] - 0s 3ms/step - loss: 0.3434 - accuracy: 0.8498\n",
            "Epoch 78/100\n",
            "97/97 [==============================] - 0s 4ms/step - loss: 0.3434 - accuracy: 0.8498\n",
            "Epoch 79/100\n",
            "97/97 [==============================] - 0s 5ms/step - loss: 0.3434 - accuracy: 0.8498\n",
            "Epoch 80/100\n",
            "97/97 [==============================] - 0s 5ms/step - loss: 0.3434 - accuracy: 0.8497\n",
            "Epoch 81/100\n",
            "97/97 [==============================] - 0s 5ms/step - loss: 0.3434 - accuracy: 0.8498\n",
            "Epoch 82/100\n",
            "97/97 [==============================] - 1s 6ms/step - loss: 0.3434 - accuracy: 0.8498\n",
            "Epoch 83/100\n",
            "97/97 [==============================] - 1s 6ms/step - loss: 0.3434 - accuracy: 0.8498\n",
            "Epoch 84/100\n",
            "97/97 [==============================] - 1s 6ms/step - loss: 0.3434 - accuracy: 0.8498\n",
            "Epoch 85/100\n",
            "97/97 [==============================] - 0s 5ms/step - loss: 0.3434 - accuracy: 0.8498\n",
            "Epoch 86/100\n",
            "97/97 [==============================] - 0s 3ms/step - loss: 0.3434 - accuracy: 0.8499\n",
            "Epoch 87/100\n",
            "97/97 [==============================] - 0s 3ms/step - loss: 0.3434 - accuracy: 0.8498\n",
            "Epoch 88/100\n",
            "97/97 [==============================] - 0s 3ms/step - loss: 0.3434 - accuracy: 0.8498\n",
            "Epoch 89/100\n",
            "97/97 [==============================] - 0s 3ms/step - loss: 0.3434 - accuracy: 0.8498\n",
            "Epoch 90/100\n",
            "97/97 [==============================] - 0s 3ms/step - loss: 0.3434 - accuracy: 0.8497\n",
            "Epoch 91/100\n",
            "97/97 [==============================] - 0s 4ms/step - loss: 0.3434 - accuracy: 0.8498\n",
            "Epoch 92/100\n",
            "97/97 [==============================] - 0s 4ms/step - loss: 0.3434 - accuracy: 0.8498\n",
            "Epoch 93/100\n",
            "97/97 [==============================] - 0s 3ms/step - loss: 0.3434 - accuracy: 0.8498\n",
            "Epoch 94/100\n",
            "97/97 [==============================] - 0s 5ms/step - loss: 0.3434 - accuracy: 0.8498\n",
            "Epoch 95/100\n",
            "97/97 [==============================] - 0s 3ms/step - loss: 0.3434 - accuracy: 0.8497\n",
            "Epoch 96/100\n",
            "97/97 [==============================] - 0s 4ms/step - loss: 0.3434 - accuracy: 0.8497\n",
            "Epoch 97/100\n",
            "97/97 [==============================] - 0s 3ms/step - loss: 0.3434 - accuracy: 0.8497\n",
            "Epoch 98/100\n",
            "97/97 [==============================] - 0s 3ms/step - loss: 0.3434 - accuracy: 0.8498\n",
            "Epoch 99/100\n",
            "97/97 [==============================] - 0s 3ms/step - loss: 0.3434 - accuracy: 0.8498\n",
            "Epoch 100/100\n",
            "97/97 [==============================] - 0s 3ms/step - loss: 0.3434 - accuracy: 0.8498\n"
          ]
        }
      ],
      "source": [
        "model = classifier.fit(X_train, y_train, batch_size = 1000, epochs = 100, shuffle = False)\n"
      ]
    },
    {
      "cell_type": "code",
      "execution_count": 24,
      "metadata": {
        "id": "S0ItvxEwPsGm",
        "colab": {
          "base_uri": "https://localhost:8080/"
        },
        "outputId": "c8f312e7-62c6-4192-e608-3b3e10d3d3e2"
      },
      "outputs": [
        {
          "output_type": "stream",
          "name": "stdout",
          "text": [
            "758/758 [==============================] - 1s 1ms/step\n"
          ]
        }
      ],
      "source": [
        "y_pred = classifier.predict(X_test)\n",
        "y_pred = (y_pred > 0.5)"
      ]
    },
    {
      "cell_type": "code",
      "execution_count": 25,
      "metadata": {
        "id": "3Ek9nTfvPsGm",
        "colab": {
          "base_uri": "https://localhost:8080/",
          "height": 433
        },
        "outputId": "3f065eed-17c3-4935-aeb5-61f2fc7bc4a3"
      },
      "outputs": [
        {
          "output_type": "display_data",
          "data": {
            "text/plain": [
              "<Figure size 1000x400 with 2 Axes>"
            ],
            "image/png": "[encoded data removed]"
          },
          "metadata": {}
        }
      ],
      "source": [
        "from sklearn.metrics import confusion_matrix\n",
        "cm = confusion_matrix(y_test, y_pred)\n",
        "\n",
        "import seaborn as sn\n",
        "import pandas as pd\n",
        "import matplotlib.pyplot as plt\n",
        "\n",
        "index = ['Normal', 'Inner Race (0.021\")']\n",
        "columns = ['Normal', 'Inner Race (0.021\")']\n",
        "cm_df = pd.DataFrame(cm,columns,index)\n",
        "\n",
        "\n",
        "plt.figure(figsize=(10,4))\n",
        "sn.set(font_scale=1.4) # for label size\n",
        "sn.heatmap(cm_df, annot=True, fmt='g') # font size\n",
        "plt.title('Confusion matrix')\n",
        "plt.xlabel('Predicted')\n",
        "plt.ylabel('True')\n",
        "plt.show()\n",
        "\n",
        "plt.show()"
      ]
    },
    {
      "cell_type": "code",
      "execution_count": 26,
      "metadata": {
        "id": "812MR_sBPsGn",
        "colab": {
          "base_uri": "https://localhost:8080/"
        },
        "outputId": "5439e0f6-54c4-4c62-b918-073b6d307374"
      },
      "outputs": [
        {
          "output_type": "stream",
          "name": "stdout",
          "text": [
            "758/758 [==============================] - 2s 2ms/step - loss: 0.3424 - accuracy: 0.8503\n"
          ]
        },
        {
          "output_type": "execute_result",
          "data": {
            "text/plain": [
              "[0.34240058064460754, 0.8502806425094604]"
            ]
          },
          "metadata": {},
          "execution_count": 26
        }
      ],
      "source": [
        "classifier.evaluate(X_test, y_test)"
      ]
    },
    {
      "cell_type": "code",
      "execution_count": 27,
      "metadata": {
        "id": "xFZxE3TqPsGo",
        "colab": {
          "base_uri": "https://localhost:8080/"
        },
        "outputId": "d87bd337-61c4-47cf-86a1-c6853c30d495"
      },
      "outputs": [
        {
          "output_type": "stream",
          "name": "stdout",
          "text": [
            "                     precision    recall  f1-score   support\n",
            "\n",
            "             Normal       0.80      0.94      0.86     12096\n",
            "Inner Race (0.021\")       0.93      0.76      0.84     12136\n",
            "\n",
            "           accuracy                           0.85     24232\n",
            "          macro avg       0.86      0.85      0.85     24232\n",
            "       weighted avg       0.86      0.85      0.85     24232\n",
            "\n"
          ]
        }
      ],
      "source": [
        "from sklearn.metrics import classification_report\n",
        "cr = classification_report(y_test, y_pred, target_names=['Normal', 'Inner Race (0.021\")'])\n",
        "print(cr)"
      ]
    },
    {
      "cell_type": "code",
      "execution_count": 28,
      "metadata": {
        "id": "UwZUZSLoPsGp",
        "colab": {
          "base_uri": "https://localhost:8080/"
        },
        "outputId": "15b30c3d-26c4-4f20-d91b-5b2a4e714b66"
      },
      "outputs": [
        {
          "output_type": "stream",
          "name": "stdout",
          "text": [
            "Anomalies: 3628\n"
          ]
        }
      ],
      "source": [
        "normal, IR = cm\n",
        "anomalies = normal[1] + IR[0]\n",
        "print(\"Anomalies: {}\".format(anomalies))"
      ]
    },
    {
      "cell_type": "markdown",
      "source": [
        "To further re-train your model, use\n",
        "**tf.keras.models.save_model() to save a model**\n",
        "**tf.keras.models.load_model() to load a model.**"
      ],
      "metadata": {
        "id": "CXuwTvKk14Sm"
      }
    },
    {
      "cell_type": "code",
      "execution_count": 29,
      "metadata": {
        "id": "u9TgEh0wPsGq"
      },
      "outputs": [],
      "source": [
        "path_to_save_model = '/content/drive/MyDrive/project files/model_name.keras'\n",
        "tf.keras.models.save_model(classifier, path_to_save_model)"
      ]
    },
    {
      "cell_type": "code",
      "source": [],
      "metadata": {
        "id": "VRO7sd7B5Y0C"
      },
      "execution_count": 29,
      "outputs": []
    }
  ],
  "metadata": {
    "colab": {
      "provenance": [],
      "include_colab_link": true
    },
    "kernelspec": {
      "display_name": "Python 3",
      "language": "python",
      "name": "python3"
    },
    "language_info": {
      "codemirror_mode": {
        "name": "ipython",
        "version": 3
      },
      "file_extension": ".py",
      "mimetype": "text/x-python",
      "name": "python",
      "nbconvert_exporter": "python",
      "pygments_lexer": "ipython3",
      "version": "3.7.4"
    }
  },
  "nbformat": 4,
  "nbformat_minor": 0
}